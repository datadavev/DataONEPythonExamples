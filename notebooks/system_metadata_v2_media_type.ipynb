{
 "cells": [
  {
   "cell_type": "markdown",
   "metadata": {},
   "source": [
    "# Create System Metadata v2\n",
    "Basic example of version 2.0 system metadata for an EML metadata document. The mediaType and fileName options are specified."
   ]
  },
  {
   "cell_type": "code",
   "execution_count": 1,
   "metadata": {
    "collapsed": false
   },
   "outputs": [
    {
     "name": "stdout",
     "output_type": "stream",
     "text": [
      "<?xml version=\"1.0\" ?>\n",
      "<ns1:systemMetadata xmlns:ns1=\"http://ns.dataone.org/service/types/v2.0\">\n",
      "  <identifier>Test_identifier</identifier>\n",
      "  <formatId>eml://ecoinformatics.org/eml-2.0.1</formatId>\n",
      "  <size>17181</size>\n",
      "  <checksum algorithm=\"MD5\">03ce09c6b4c3efc1681f3023402998a2</checksum>\n",
      "  <submitter>CN=urn:node:cnStageUNM1,DC=dataone,DC=org</submitter>\n",
      "  <rightsHolder>CN=testRightsHolder,DC=dataone,DC=org</rightsHolder>\n",
      "  <accessPolicy>\n",
      "    <allow>\n",
      "      <subject>Public</subject>\n",
      "      <permission>read</permission>\n",
      "    </allow>\n",
      "  </accessPolicy>\n",
      "  <replicationPolicy numberReplicas=\"3\" replicationAllowed=\"true\"/>\n",
      "  <mediaType name=\"text/xml\"/>\n",
      "  <fileName>metadata.xml</fileName>\n",
      "</ns1:systemMetadata>\n",
      "\n"
     ]
    }
   ],
   "source": [
    "from d1_common.types import dataoneTypes\n",
    "\n",
    "# Create minimal System Metadata instance with bogus data\n",
    "system_metadata = dataoneTypes.systemMetadata()\n",
    "system_metadata.identifier = \"Test_identifier\"\n",
    "system_metadata.formatId = \"eml://ecoinformatics.org/eml-2.0.1\"\n",
    "system_metadata.size = 17181\n",
    "checksum = dataoneTypes.checksum(\"03ce09c6b4c3efc1681f3023402998a2\")\n",
    "checksum.algorithm = \"MD5\"\n",
    "system_metadata.checksum = checksum\n",
    "system_metadata.submitter = \"CN=urn:node:cnStageUNM1,DC=dataone,DC=org\"\n",
    "system_metadata.rightsHolder = \"CN=testRightsHolder,DC=dataone,DC=org\"\n",
    "\n",
    "#enable public read by adding read permission for the \"Public\" user\n",
    "access_policy = dataoneTypes.accessPolicy()\n",
    "access_rule = dataoneTypes.accessRule()\n",
    "access_rule.subject.append(\"Public\")\n",
    "access_rule.permission.append(dataoneTypes.Permission('read'))\n",
    "access_policy.append(access_rule)\n",
    "system_metadata.accessPolicy = access_policy\n",
    "\n",
    "#Replication Policy\n",
    "replication_policy = dataoneTypes.replicationPolicy()\n",
    "replication_policy.replicationAllowed = True\n",
    "replication_policy.numberReplicas = 3\n",
    "system_metadata.replicationPolicy = replication_policy\n",
    "\n",
    "#Media type information\n",
    "media_type = dataoneTypes.mediaType()\n",
    "media_type.name = \"text/xml\"\n",
    "system_metadata.mediaType = media_type\n",
    "system_metadata.fileName = \"metadata.xml\"\n",
    "\n",
    "dom = system_metadata.toDOM(None)\n",
    "xml = dom.toprettyxml(indent=\"  \")\n",
    "print xml"
   ]
  },
  {
   "cell_type": "code",
   "execution_count": null,
   "metadata": {
    "collapsed": true
   },
   "outputs": [],
   "source": []
  }
 ],
 "metadata": {
  "kernelspec": {
   "display_name": "Python 2",
   "language": "python",
   "name": "python2"
  },
  "language_info": {
   "codemirror_mode": {
    "name": "ipython",
    "version": 2
   },
   "file_extension": ".py",
   "mimetype": "text/x-python",
   "name": "python",
   "nbconvert_exporter": "python",
   "pygments_lexer": "ipython2",
   "version": "2.7.10"
  }
 },
 "nbformat": 4,
 "nbformat_minor": 0
}
