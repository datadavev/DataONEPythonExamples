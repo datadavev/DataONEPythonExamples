{
 "cells": [
  {
   "cell_type": "markdown",
   "metadata": {},
   "source": [
    "# OAI-ORE Data Package Examples\n",
    "\n",
    "1. Create a simple data package with one data document and one metadata document.\n",
    "\n",
    "This example creates an OAI-ORE resource map document that describes the situation with a single metadata document (\"id-scimeta-1\") that describes a single data object (\"id-data-1\"). The generated OIA-ORE document has identifier \"id-package-1\".\n"
   ]
  },
  {
   "cell_type": "code",
   "execution_count": 8,
   "metadata": {
    "collapsed": false
   },
   "outputs": [
    {
     "name": "stdout",
     "output_type": "stream",
     "text": [
      "<?xml version=\"1.0\" encoding=\"UTF-8\"?>\n",
      "<rdf:RDF\n",
      "   xmlns:cito=\"http://purl.org/spar/cito/\"\n",
      "   xmlns:dc=\"http://purl.org/dc/elements/1.1/\"\n",
      "   xmlns:dcterms=\"http://purl.org/dc/terms/\"\n",
      "   xmlns:foaf=\"http://xmlns.com/foaf/0.1/\"\n",
      "   xmlns:ore=\"http://www.openarchives.org/ore/terms/\"\n",
      "   xmlns:rdf=\"http://www.w3.org/1999/02/22-rdf-syntax-ns#\"\n",
      "   xmlns:rdfs1=\"http://www.w3.org/2001/01/rdf-schema#\"\n",
      ">\n",
      "  <rdf:Description rdf:about=\"https://cn.dataone.org/cn/v1/resolve/id-package-1\">\n",
      "    <dcterms:modified>2016-01-19T10:22:22Z</dcterms:modified>\n",
      "    <dcterms:identifier>id-package-1</dcterms:identifier>\n",
      "    <dc:format>application/rdf+xml</dc:format>\n",
      "    <dcterms:created>2016-01-19T10:22:22Z</dcterms:created>\n",
      "    <ore:describes rdf:resource=\"https://cn.dataone.org/cn/v1/resolve/id-package-1#aggregation\"/>\n",
      "    <rdf:type rdf:resource=\"http://www.openarchives.org/ore/terms/ResourceMap\"/>\n",
      "    <dcterms:creator rdf:resource=\"http://foresite-toolkit.googlecode.com/#pythonAgent\"/>\n",
      "  </rdf:Description>\n",
      "  <rdf:Description rdf:about=\"https://cn.dataone.org/cn/v1/resolve/id-scimeta-1\">\n",
      "    <dcterms:identifier>id-scimeta-1</dcterms:identifier>\n",
      "    <cito:documents rdf:resource=\"https://cn.dataone.org/cn/v1/resolve/id-data-1\"/>\n",
      "  </rdf:Description>\n",
      "  <rdf:Description rdf:about=\"https://cn.dataone.org/cn/v1/resolve/id-data-1\">\n",
      "    <dcterms:identifier>id-data-1</dcterms:identifier>\n",
      "    <cito:isDocumentedBy rdf:resource=\"https://cn.dataone.org/cn/v1/resolve/id-scimeta-1\"/>\n",
      "  </rdf:Description>\n",
      "  <rdf:Description rdf:about=\"http://www.openarchives.org/ore/terms/Aggregation\">\n",
      "    <rdfs1:isDefinedBy>http://www.openarchives.org/ore/terms/</rdfs1:isDefinedBy>\n",
      "    <rdfs1:label>Aggregation</rdfs1:label>\n",
      "  </rdf:Description>\n",
      "  <rdf:Description rdf:about=\"http://www.openarchives.org/ore/terms/ResourceMap\">\n",
      "    <rdfs1:isDefinedBy>http://www.openarchives.org/ore/terms/</rdfs1:isDefinedBy>\n",
      "    <rdfs1:label>ResourceMap</rdfs1:label>\n",
      "  </rdf:Description>\n",
      "  <rdf:Description rdf:about=\"https://cn.dataone.org/cn/v1/resolve/id-package-1#aggregation\">\n",
      "    <rdf:type rdf:resource=\"http://www.openarchives.org/ore/terms/Aggregation\"/>\n",
      "    <ore:aggregates rdf:resource=\"https://cn.dataone.org/cn/v1/resolve/id-data-1\"/>\n",
      "    <ore:aggregates rdf:resource=\"https://cn.dataone.org/cn/v1/resolve/id-scimeta-1\"/>\n",
      "  </rdf:Description>\n",
      "  <rdf:Description rdf:about=\"http://foresite-toolkit.googlecode.com/#pythonAgent\">\n",
      "    <foaf:name>Foresite Toolkit (Python)</foaf:name>\n",
      "    <foaf:mbox>foresite@googlegroups.com</foaf:mbox>\n",
      "  </rdf:Description>\n",
      "</rdf:RDF>\n",
      "\n"
     ]
    }
   ],
   "source": [
    "from d1_common.types import dataoneTypes\n",
    "from d1_client import data_package\n",
    "\n",
    "metadata_pid = 'id-scimeta-1'\n",
    "data_pid = 'id-data-1'\n",
    "package_pid = 'id-package-1'\n",
    "\n",
    "ore_generator = data_package.ResourceMapGenerator()\n",
    "\n",
    "ore_document = ore_generator.simple_generate_resource_map(package_pid, \n",
    "                                                          metadata_pid,\n",
    "                                                          [data_pid,])\n",
    "print ore_document"
   ]
  },
  {
   "cell_type": "markdown",
   "metadata": {
    "collapsed": true
   },
   "source": [
    "[![](assets/basic_ore_1.png)](assets/basic_ore_1.png)"
   ]
  },
  {
   "cell_type": "code",
   "execution_count": null,
   "metadata": {
    "collapsed": true
   },
   "outputs": [],
   "source": []
  },
  {
   "cell_type": "code",
   "execution_count": null,
   "metadata": {
    "collapsed": true
   },
   "outputs": [],
   "source": []
  }
 ],
 "metadata": {
  "kernelspec": {
   "display_name": "Python 2",
   "language": "python",
   "name": "python2"
  },
  "language_info": {
   "codemirror_mode": {
    "name": "ipython",
    "version": 2
   },
   "file_extension": ".py",
   "mimetype": "text/x-python",
   "name": "python",
   "nbconvert_exporter": "python",
   "pygments_lexer": "ipython2",
   "version": "2.7.10"
  }
 },
 "nbformat": 4,
 "nbformat_minor": 0
}
