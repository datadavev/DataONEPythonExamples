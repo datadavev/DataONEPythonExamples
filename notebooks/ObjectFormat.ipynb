{
 "cells": [
  {
   "cell_type": "markdown",
   "metadata": {},
   "source": [
    "# Create Object Format List in v2\n",
    "\n",
    "Show the structure of an object format list with the optional mediaType information for V2.\n",
    "\n",
    "Note: This code uses a current beta branch of the version 2.0 d1_common_python source located at https://repository.dataone.org/software/cicore/branches/d1_common_python_v2_vieglais"
   ]
  },
  {
   "cell_type": "code",
   "execution_count": 15,
   "metadata": {
    "collapsed": false
   },
   "outputs": [
    {
     "name": "stdout",
     "output_type": "stream",
     "text": [
      "<?xml version=\"1.0\" ?>\n",
      "<ns1:objectFormatList count=\"2\" start=\"0\" total=\"2\" xmlns:ns1=\"http://ns.dataone.org/service/types/v2.0\">\n",
      "  <objectFormat>\n",
      "    <formatId>eml://ecoinformatics.org/eml-2.0.0</formatId>\n",
      "    <formatName>Ecological Metadata Language, version 2.0.0</formatName>\n",
      "    <formatType>METADATA</formatType>\n",
      "    <mediaType name=\"text/xml\"/>\n",
      "    <extension>xml</extension>\n",
      "  </objectFormat>\n",
      "  <objectFormat>\n",
      "    <formatId>video/H264</formatId>\n",
      "    <formatName>H264 encoded video</formatName>\n",
      "    <formatType>DATA</formatType>\n",
      "    <mediaType name=\"video/H264\">\n",
      "      <property name=\"profile-level-id\">H44I</property>\n",
      "      <property name=\"max-recv-level\">6F</property>\n",
      "      <property name=\"sar-supported\">255</property>\n",
      "    </mediaType>\n",
      "    <extension>avc</extension>\n",
      "  </objectFormat>\n",
      "</ns1:objectFormatList>\n",
      "\n"
     ]
    }
   ],
   "source": [
    "from d1_common.types import dataoneTypes\n",
    "\n",
    "object_format_list = dataoneTypes.objectFormatList(start=0)\n",
    "\n",
    "object_format = dataoneTypes.objectFormat()\n",
    "object_format.formatId = \"eml://ecoinformatics.org/eml-2.0.0\"\n",
    "object_format.formatName = \"Ecological Metadata Language, version 2.0.0\"\n",
    "object_format.formatType = \"METADATA\"\n",
    "object_format.mediaType = dataoneTypes.mediaType(name='text/xml')\n",
    "object_format.extension = \"xml\"\n",
    "object_format_list.append(object_format)\n",
    "\n",
    "#\n",
    "# Note the following object format does not exist in DataONE, it is used as an example \n",
    "# of a complete media type\n",
    "#\n",
    "object_format = dataoneTypes.objectFormat()\n",
    "object_format.formatId = \"video/H264\"\n",
    "object_format.formatName = \"H264 encoded video\"\n",
    "object_format.formatType = \"DATA\"\n",
    "object_format.mediaType= dataoneTypes.mediaType(name=\"video/H264\")\n",
    "object_format.mediaType.property_.append( dataoneTypes.MediaTypeProperty(\"H44I\", name=\"profile-level-id\") )\n",
    "object_format.mediaType.property_.append( dataoneTypes.MediaTypeProperty(\"6F\", name=\"max-recv-level\") )\n",
    "object_format.mediaType.property_.append( dataoneTypes.MediaTypeProperty(\"255\", name=\"sar-supported\") )\n",
    "object_format.extension = \"avc\"\n",
    "object_format_list.append(object_format)\n",
    "\n",
    "object_format_list.count = len(object_format_list.objectFormat)\n",
    "object_format_list.total = len(object_format_list.objectFormat)\n",
    "\n",
    "dom = object_format_list.toDOM(None)\n",
    "xml = dom.toprettyxml(indent=\"  \")\n",
    "print xml"
   ]
  },
  {
   "cell_type": "code",
   "execution_count": null,
   "metadata": {
    "collapsed": true
   },
   "outputs": [],
   "source": []
  }
 ],
 "metadata": {
  "kernelspec": {
   "display_name": "Python 2",
   "language": "python",
   "name": "python2"
  },
  "language_info": {
   "codemirror_mode": {
    "name": "ipython",
    "version": 2
   },
   "file_extension": ".py",
   "mimetype": "text/x-python",
   "name": "python",
   "nbconvert_exporter": "python",
   "pygments_lexer": "ipython2",
   "version": "2.7.10"
  }
 },
 "nbformat": 4,
 "nbformat_minor": 0
}
